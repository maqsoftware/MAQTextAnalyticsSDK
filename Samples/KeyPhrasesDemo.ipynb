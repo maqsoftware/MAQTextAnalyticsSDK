{
 "cells": [
  {
   "cell_type": "markdown",
   "metadata": {},
   "source": [
    "### Installing the Library"
   ]
  },
  {
   "cell_type": "code",
   "execution_count": 1,
   "metadata": {},
   "outputs": [
    {
     "name": "stdout",
     "output_type": "stream",
     "text": [
      "Collecting MAQTextSDK"
     ]
    },
    {
     "name": "stderr",
     "output_type": "stream",
     "text": [
      "You are using pip version 9.0.1, however version 21.3.1 is available.\n",
      "You should consider upgrading via the 'python -m pip install --upgrade pip' command.\n"
     ]
    },
    {
     "name": "stdout",
     "output_type": "stream",
     "text": [
      "\n",
      "  Downloading https://files.pythonhosted.org/packages/1d/55/24b9f7cd5a454b1453fbf53b6ec0417797f3eef33d01722b847e415c3380/MAQTextSDK-1.1.tar.gz\n",
      "Collecting msrest (from MAQTextSDK)\n",
      "  Downloading https://files.pythonhosted.org/packages/e8/cc/6c96bfb3d3cf4c3bdedfa6b46503223f4c2a4fa388377697e0f8082a4fed/msrest-0.6.21-py2.py3-none-any.whl (85kB)\n",
      "Collecting isodate>=0.6.0 (from msrest->MAQTextSDK)\n",
      "  Downloading https://files.pythonhosted.org/packages/9b/9f/b36f7774ff5ea8e428fdcfc4bb332c39ee5b9362ddd3d40d9516a55221b2/isodate-0.6.0-py2.py3-none-any.whl (45kB)\n",
      "Requirement already satisfied: certifi>=2017.4.17 in c:\\users\\v-shaiws\\downloads\\environment\\python_3.6.1\\lib\\site-packages (from msrest->MAQTextSDK)\n",
      "Requirement already satisfied: requests~=2.16 in c:\\users\\v-shaiws\\downloads\\environment\\python_3.6.1\\lib\\site-packages (from msrest->MAQTextSDK)\n",
      "Requirement already satisfied: requests-oauthlib>=0.5.0 in c:\\users\\v-shaiws\\downloads\\environment\\python_3.6.1\\lib\\site-packages (from msrest->MAQTextSDK)\n",
      "Requirement already satisfied: six in c:\\users\\v-shaiws\\downloads\\environment\\python_3.6.1\\lib\\site-packages (from isodate>=0.6.0->msrest->MAQTextSDK)\n",
      "Requirement already satisfied: chardet<3.1.0,>=3.0.2 in c:\\users\\v-shaiws\\downloads\\environment\\python_3.6.1\\lib\\site-packages (from requests~=2.16->msrest->MAQTextSDK)\n",
      "Requirement already satisfied: idna<2.9,>=2.5 in c:\\users\\v-shaiws\\downloads\\environment\\python_3.6.1\\lib\\site-packages (from requests~=2.16->msrest->MAQTextSDK)\n",
      "Requirement already satisfied: urllib3!=1.25.0,!=1.25.1,<1.26,>=1.21.1 in c:\\users\\v-shaiws\\downloads\\environment\\python_3.6.1\\lib\\site-packages (from requests~=2.16->msrest->MAQTextSDK)\n",
      "Requirement already satisfied: oauthlib>=3.0.0 in c:\\users\\v-shaiws\\downloads\\environment\\python_3.6.1\\lib\\site-packages (from requests-oauthlib>=0.5.0->msrest->MAQTextSDK)\n",
      "Building wheels for collected packages: MAQTextSDK\n",
      "  Running setup.py bdist_wheel for MAQTextSDK: started\n",
      "  Running setup.py bdist_wheel for MAQTextSDK: finished with status 'done'\n",
      "  Stored in directory: C:\\Users\\shaiwalsachdevpepsi\\AppData\\Local\\pip\\Cache\\wheels\\20\\61\\86\\1edcba7d5931319fedf0032cf0eab0db9a915602719d3da300\n",
      "Successfully built MAQTextSDK\n",
      "Installing collected packages: isodate, msrest, MAQTextSDK\n",
      "Successfully installed MAQTextSDK-1.1 isodate-0.6.0 msrest-0.6.21\n"
     ]
    }
   ],
   "source": [
    "!pip install MAQTextSDK"
   ]
  },
  {
   "cell_type": "markdown",
   "metadata": {},
   "source": [
    "### Send Request"
   ]
  },
  {
   "cell_type": "code",
   "execution_count": 20,
   "metadata": {},
   "outputs": [],
   "source": [
    "#Load Text\n",
    "keyphrase_input = dict()\n",
    "\n",
    "#Set Text\n",
    "keyphrase_input[\"text\"] = \"Does social capital determine innovation ? To what extent? This paper deals with two questions: Does social capital determine innovation in manufacturing firms? If it is the case, to what extent? To deal with these questions, we review the literature on innovation in order to see how social capital came to be added to the other forms of capital as an explanatory variable of innovation. In doing so, we have been led to follow the dominating view of the literature on social capital and innovation which claims that social capital cannot be captured through a single indicator, but that it actually takes many different forms that must be accounted for. Therefore, to the traditional explanatory variables of innovation, we have added five forms of structural social capital (business network assets, information network assets, research network assets, participation assets, and relational assets) and one form of cognitive social capital (reciprocal trust). In a context where empirical investigations regarding the relations between social capital and innovation are still scanty, this paper makes contributions to the advancement of knowledge in providing new evidence regarding the impact and the extent of social capital on innovation at the two decisionmaking stages considered in this study\"\n",
    "\n",
    "#Top Number Of Keyphrases\n",
    "keyphrase_input[\"keyphrases_count\"] = 10\n",
    "\n",
    "#More Score, more different/diverse keyphrases are generated\n",
    "#Less Score, more duplicate keyphrases are generated\n",
    "keyphrase_input[\"diversity_threshold\"] = 0.52\n",
    "\n",
    "#Similarity threshold for Alias/Similar Keyphrase with Top Key Phrase [Similar Column]\n",
    "#More The Value, More accurate keyphrases are found with top key-phrase [Similar Column]\n",
    "keyphrase_input[\"alias_threshold\"] = 0.65"
   ]
  },
  {
   "cell_type": "code",
   "execution_count": 5,
   "metadata": {},
   "outputs": [],
   "source": [
    "#Set API Key\n",
    "APIKey = 'Valid API Key'\n",
    "APIEndpoint = \"https://maqtextnalyticssdk.azure-api.net/text/\""
   ]
  },
  {
   "cell_type": "code",
   "execution_count": 10,
   "metadata": {},
   "outputs": [],
   "source": [
    "#Import \n",
    "import  MAQTextSDK.maq_text_analytics_linux as TextSDK\n",
    "import pandas as pd"
   ]
  },
  {
   "cell_type": "code",
   "execution_count": 13,
   "metadata": {},
   "outputs": [
    {
     "data": {
      "text/html": [
       "<div>\n",
       "<style scoped>\n",
       "    .dataframe tbody tr th:only-of-type {\n",
       "        vertical-align: middle;\n",
       "    }\n",
       "\n",
       "    .dataframe tbody tr th {\n",
       "        vertical-align: top;\n",
       "    }\n",
       "\n",
       "    .dataframe thead th {\n",
       "        text-align: right;\n",
       "    }\n",
       "</style>\n",
       "<table border=\"1\" class=\"dataframe\">\n",
       "  <thead>\n",
       "    <tr style=\"text-align: right;\">\n",
       "      <th></th>\n",
       "      <th>KeyPhrase</th>\n",
       "      <th>Score</th>\n",
       "      <th>Similar</th>\n",
       "    </tr>\n",
       "  </thead>\n",
       "  <tbody>\n",
       "    <tr>\n",
       "      <th>0</th>\n",
       "      <td>structural social capital</td>\n",
       "      <td>1.000000</td>\n",
       "      <td>[cognitive social capital]</td>\n",
       "    </tr>\n",
       "    <tr>\n",
       "      <th>1</th>\n",
       "      <td>innovation</td>\n",
       "      <td>0.754714</td>\n",
       "      <td>[advancement]</td>\n",
       "    </tr>\n",
       "    <tr>\n",
       "      <th>2</th>\n",
       "      <td>research network assets</td>\n",
       "      <td>0.586890</td>\n",
       "      <td>[information network assets, business network ...</td>\n",
       "    </tr>\n",
       "    <tr>\n",
       "      <th>3</th>\n",
       "      <td>participation assets</td>\n",
       "      <td>0.575738</td>\n",
       "      <td>[]</td>\n",
       "    </tr>\n",
       "    <tr>\n",
       "      <th>4</th>\n",
       "      <td>reciprocal trust</td>\n",
       "      <td>0.564874</td>\n",
       "      <td>[]</td>\n",
       "    </tr>\n",
       "    <tr>\n",
       "      <th>5</th>\n",
       "      <td>explanatory variable</td>\n",
       "      <td>0.390424</td>\n",
       "      <td>[traditional explanatory variables]</td>\n",
       "    </tr>\n",
       "    <tr>\n",
       "      <th>6</th>\n",
       "      <td>empirical investigations</td>\n",
       "      <td>0.355306</td>\n",
       "      <td>[study]</td>\n",
       "    </tr>\n",
       "    <tr>\n",
       "      <th>7</th>\n",
       "      <td>many different forms</td>\n",
       "      <td>0.264404</td>\n",
       "      <td>[other forms]</td>\n",
       "    </tr>\n",
       "    <tr>\n",
       "      <th>8</th>\n",
       "      <td>dominating view</td>\n",
       "      <td>0.207086</td>\n",
       "      <td>[]</td>\n",
       "    </tr>\n",
       "    <tr>\n",
       "      <th>9</th>\n",
       "      <td>paper</td>\n",
       "      <td>0.121013</td>\n",
       "      <td>[]</td>\n",
       "    </tr>\n",
       "  </tbody>\n",
       "</table>\n",
       "</div>"
      ],
      "text/plain": [
       "                   KeyPhrase     Score  \\\n",
       "0  structural social capital  1.000000   \n",
       "1                 innovation  0.754714   \n",
       "2    research network assets  0.586890   \n",
       "3       participation assets  0.575738   \n",
       "4           reciprocal trust  0.564874   \n",
       "5       explanatory variable  0.390424   \n",
       "6   empirical investigations  0.355306   \n",
       "7       many different forms  0.264404   \n",
       "8            dominating view  0.207086   \n",
       "9                      paper  0.121013   \n",
       "\n",
       "                                             Similar  \n",
       "0                         [cognitive social capital]  \n",
       "1                                      [advancement]  \n",
       "2  [information network assets, business network ...  \n",
       "3                                                 []  \n",
       "4                                                 []  \n",
       "5                [traditional explanatory variables]  \n",
       "6                                            [study]  \n",
       "7                                      [other forms]  \n",
       "8                                                 []  \n",
       "9                                                 []  "
      ]
     },
     "metadata": {},
     "output_type": "display_data"
    }
   ],
   "source": [
    "#Send Request\n",
    "\n",
    "textClient = TextSDK.MAQTextAnalyticsLinux(base_url = APIEndpoint)\n",
    "\n",
    "response = textClient.post_keyphrase_extractor(api_key = APIKey, data_input  =keyphrase_input)\n",
    "\n",
    "response_df = pd.DataFrame(response, columns = ['KeyPhrase','Score','Similar'])\n",
    "\n",
    "display(response_df)"
   ]
  },
  {
   "cell_type": "markdown",
   "metadata": {},
   "source": [
    "### Send Request using Requests Library"
   ]
  },
  {
   "cell_type": "code",
   "execution_count": 21,
   "metadata": {},
   "outputs": [],
   "source": [
    "import requests\n",
    "#Set API Key\n",
    "APIKey = 'Valid API Key'\n",
    "APIEndpoint = \"https://maqtextnalyticssdk.azure-api.net/text/\"\n",
    "headers = {\"APIKey\": APIKey}"
   ]
  },
  {
   "cell_type": "code",
   "execution_count": 35,
   "metadata": {},
   "outputs": [],
   "source": [
    "#Load Text\n",
    "keyphrase_input = dict()\n",
    "\n",
    "#Set Text\n",
    "keyphrase_input[\"text\"] = \"Does social capital determine innovation ? To what extent? This paper deals with two questions: Does social capital determine innovation in manufacturing firms? If it is the case, to what extent? To deal with these questions, we review the literature on innovation in order to see how social capital came to be added to the other forms of capital as an explanatory variable of innovation. In doing so, we have been led to follow the dominating view of the literature on social capital and innovation which claims that social capital cannot be captured through a single indicator, but that it actually takes many different forms that must be accounted for. Therefore, to the traditional explanatory variables of innovation, we have added five forms of structural social capital (business network assets, information network assets, research network assets, participation assets, and relational assets) and one form of cognitive social capital (reciprocal trust). In a context where empirical investigations regarding the relations between social capital and innovation are still scanty, this paper makes contributions to the advancement of knowledge in providing new evidence regarding the impact and the extent of social capital on innovation at the two decisionmaking stages considered in this study\"\n",
    "\n",
    "#Top Number Of Keyphrases\n",
    "keyphrase_input[\"keyphrases_count\"] = 10\n",
    "\n",
    "#More Score, more different/diverse keyphrases are generated\n",
    "#Less Score, more duplicate keyphrases are generated\n",
    "keyphrase_input[\"diversity_threshold\"] = 0.52\n",
    "\n",
    "#Similarity threshold for Alias/Similar Keyphrase with Top Key Phrase\n",
    "#More The Value, More accurate similar keyphrases are found with top key-phrase\n",
    "keyphrase_input[\"alias_threshold\"] = 0.65"
   ]
  },
  {
   "cell_type": "code",
   "execution_count": 36,
   "metadata": {},
   "outputs": [],
   "source": [
    "response = requests.post(APIEndpoint + \"/KeyPhrase\", headers=headers, json=keyphrase_input)"
   ]
  },
  {
   "cell_type": "code",
   "execution_count": 37,
   "metadata": {},
   "outputs": [
    {
     "data": {
      "text/html": [
       "<div>\n",
       "<style scoped>\n",
       "    .dataframe tbody tr th:only-of-type {\n",
       "        vertical-align: middle;\n",
       "    }\n",
       "\n",
       "    .dataframe tbody tr th {\n",
       "        vertical-align: top;\n",
       "    }\n",
       "\n",
       "    .dataframe thead th {\n",
       "        text-align: right;\n",
       "    }\n",
       "</style>\n",
       "<table border=\"1\" class=\"dataframe\">\n",
       "  <thead>\n",
       "    <tr style=\"text-align: right;\">\n",
       "      <th></th>\n",
       "      <th>KeyPhrase</th>\n",
       "      <th>Score</th>\n",
       "      <th>Similar</th>\n",
       "    </tr>\n",
       "  </thead>\n",
       "  <tbody>\n",
       "    <tr>\n",
       "      <th>0</th>\n",
       "      <td>structural social capital</td>\n",
       "      <td>1.000000</td>\n",
       "      <td>[cognitive social capital]</td>\n",
       "    </tr>\n",
       "    <tr>\n",
       "      <th>1</th>\n",
       "      <td>innovation</td>\n",
       "      <td>0.754714</td>\n",
       "      <td>[advancement]</td>\n",
       "    </tr>\n",
       "    <tr>\n",
       "      <th>2</th>\n",
       "      <td>research network assets</td>\n",
       "      <td>0.586890</td>\n",
       "      <td>[information network assets, business network ...</td>\n",
       "    </tr>\n",
       "    <tr>\n",
       "      <th>3</th>\n",
       "      <td>participation assets</td>\n",
       "      <td>0.575738</td>\n",
       "      <td>[]</td>\n",
       "    </tr>\n",
       "    <tr>\n",
       "      <th>4</th>\n",
       "      <td>reciprocal trust</td>\n",
       "      <td>0.564874</td>\n",
       "      <td>[]</td>\n",
       "    </tr>\n",
       "    <tr>\n",
       "      <th>5</th>\n",
       "      <td>explanatory variable</td>\n",
       "      <td>0.390424</td>\n",
       "      <td>[traditional explanatory variables]</td>\n",
       "    </tr>\n",
       "    <tr>\n",
       "      <th>6</th>\n",
       "      <td>empirical investigations</td>\n",
       "      <td>0.355306</td>\n",
       "      <td>[study]</td>\n",
       "    </tr>\n",
       "    <tr>\n",
       "      <th>7</th>\n",
       "      <td>many different forms</td>\n",
       "      <td>0.264404</td>\n",
       "      <td>[other forms]</td>\n",
       "    </tr>\n",
       "    <tr>\n",
       "      <th>8</th>\n",
       "      <td>dominating view</td>\n",
       "      <td>0.207086</td>\n",
       "      <td>[]</td>\n",
       "    </tr>\n",
       "    <tr>\n",
       "      <th>9</th>\n",
       "      <td>paper</td>\n",
       "      <td>0.121013</td>\n",
       "      <td>[]</td>\n",
       "    </tr>\n",
       "  </tbody>\n",
       "</table>\n",
       "</div>"
      ],
      "text/plain": [
       "                   KeyPhrase     Score  \\\n",
       "0  structural social capital  1.000000   \n",
       "1                 innovation  0.754714   \n",
       "2    research network assets  0.586890   \n",
       "3       participation assets  0.575738   \n",
       "4           reciprocal trust  0.564874   \n",
       "5       explanatory variable  0.390424   \n",
       "6   empirical investigations  0.355306   \n",
       "7       many different forms  0.264404   \n",
       "8            dominating view  0.207086   \n",
       "9                      paper  0.121013   \n",
       "\n",
       "                                             Similar  \n",
       "0                         [cognitive social capital]  \n",
       "1                                      [advancement]  \n",
       "2  [information network assets, business network ...  \n",
       "3                                                 []  \n",
       "4                                                 []  \n",
       "5                [traditional explanatory variables]  \n",
       "6                                            [study]  \n",
       "7                                      [other forms]  \n",
       "8                                                 []  \n",
       "9                                                 []  "
      ]
     },
     "metadata": {},
     "output_type": "display_data"
    }
   ],
   "source": [
    "response_df = pd.DataFrame(response.json(), columns = ['KeyPhrase','Score','Similar'])\n",
    "\n",
    "display(response_df)"
   ]
  },
  {
   "cell_type": "markdown",
   "metadata": {},
   "source": [
    "### Error Handling"
   ]
  },
  {
   "cell_type": "markdown",
   "metadata": {},
   "source": [
    "#### Invalid or Expired API Key"
   ]
  },
  {
   "cell_type": "code",
   "execution_count": 17,
   "metadata": {},
   "outputs": [],
   "source": [
    "#Set API Key\n",
    "APIKey = 'Invalid/Expired API Key'\n",
    "APIEndpoint = \"https://maqtextnalyticssdk.azure-api.net/text/\""
   ]
  },
  {
   "cell_type": "code",
   "execution_count": 18,
   "metadata": {},
   "outputs": [
    {
     "ename": "HttpOperationError",
     "evalue": "Operation returned an invalid status code 'You are passing an invalid API Key. Please valdiate the API Key. For further assistance, get in touch with us here:  https://maqsoftware.com/contact'",
     "output_type": "error",
     "traceback": [
      "\u001b[1;31m---------------------------------------------------------------------------\u001b[0m",
      "\u001b[1;31mHttpOperationError\u001b[0m                        Traceback (most recent call last)",
      "\u001b[1;32mC:\\Users\\SHAIWA~1\\AppData\\Local\\Temp/ipykernel_22956/495826513.py\u001b[0m in \u001b[0;36m<module>\u001b[1;34m\u001b[0m\n\u001b[0;32m      2\u001b[0m \u001b[0mtextClient\u001b[0m \u001b[1;33m=\u001b[0m \u001b[0mTextSDK\u001b[0m\u001b[1;33m.\u001b[0m\u001b[0mMAQTextAnalyticsLinux\u001b[0m\u001b[1;33m(\u001b[0m\u001b[0mbase_url\u001b[0m \u001b[1;33m=\u001b[0m \u001b[0mAPIEndpoint\u001b[0m\u001b[1;33m)\u001b[0m\u001b[1;33m\u001b[0m\u001b[1;33m\u001b[0m\u001b[0m\n\u001b[0;32m      3\u001b[0m \u001b[1;33m\u001b[0m\u001b[0m\n\u001b[1;32m----> 4\u001b[1;33m \u001b[0mresponse\u001b[0m \u001b[1;33m=\u001b[0m \u001b[0mtextClient\u001b[0m\u001b[1;33m.\u001b[0m\u001b[0mpost_keyphrase_extractor\u001b[0m\u001b[1;33m(\u001b[0m\u001b[0mapi_key\u001b[0m \u001b[1;33m=\u001b[0m \u001b[0mAPIKey\u001b[0m\u001b[1;33m,\u001b[0m \u001b[0mdata_input\u001b[0m \u001b[1;33m=\u001b[0m \u001b[0mkeyphrase_input\u001b[0m\u001b[1;33m)\u001b[0m\u001b[1;33m\u001b[0m\u001b[1;33m\u001b[0m\u001b[0m\n\u001b[0m\u001b[0;32m      5\u001b[0m \u001b[1;33m\u001b[0m\u001b[0m\n\u001b[0;32m      6\u001b[0m \u001b[0mprint\u001b[0m\u001b[1;33m(\u001b[0m\u001b[0mresponse\u001b[0m\u001b[1;33m)\u001b[0m\u001b[1;33m\u001b[0m\u001b[1;33m\u001b[0m\u001b[0m\n",
      "\u001b[1;32mC:\\Users\\v-shaiws\\Downloads\\Environment\\TimeSeries_3.7\\lib\\site-packages\\MAQTextSDK\\maq_text_analytics_linux.py\u001b[0m in \u001b[0;36mpost_keyphrase_extractor\u001b[1;34m(self, api_key, data_input, custom_headers, raw, **operation_config)\u001b[0m\n\u001b[0;32m    275\u001b[0m             \u001b[1;32melse\u001b[0m\u001b[1;33m:\u001b[0m\u001b[1;33m\u001b[0m\u001b[1;33m\u001b[0m\u001b[0m\n\u001b[0;32m    276\u001b[0m                 \u001b[0mresponse\u001b[0m\u001b[1;33m.\u001b[0m\u001b[0mreason\u001b[0m \u001b[1;33m=\u001b[0m \u001b[0mjson\u001b[0m\u001b[1;33m.\u001b[0m\u001b[0mloads\u001b[0m\u001b[1;33m(\u001b[0m\u001b[0mresponse\u001b[0m\u001b[1;33m.\u001b[0m\u001b[0mtext\u001b[0m\u001b[1;33m)\u001b[0m\u001b[1;33m[\u001b[0m\u001b[1;34m\"message\"\u001b[0m\u001b[1;33m]\u001b[0m\u001b[1;33m\u001b[0m\u001b[1;33m\u001b[0m\u001b[0m\n\u001b[1;32m--> 277\u001b[1;33m                 \u001b[1;32mraise\u001b[0m \u001b[0mHttpOperationError\u001b[0m\u001b[1;33m(\u001b[0m\u001b[0mself\u001b[0m\u001b[1;33m.\u001b[0m\u001b[0m_deserialize\u001b[0m\u001b[1;33m,\u001b[0m \u001b[0mresponse\u001b[0m\u001b[1;33m)\u001b[0m\u001b[1;33m\u001b[0m\u001b[1;33m\u001b[0m\u001b[0m\n\u001b[0m\u001b[0;32m    278\u001b[0m \u001b[1;33m\u001b[0m\u001b[0m\n\u001b[0;32m    279\u001b[0m         \u001b[0mdeserialized\u001b[0m \u001b[1;33m=\u001b[0m \u001b[1;32mNone\u001b[0m\u001b[1;33m\u001b[0m\u001b[1;33m\u001b[0m\u001b[0m\n",
      "\u001b[1;31mHttpOperationError\u001b[0m: Operation returned an invalid status code 'You are passing an invalid API Key. Please valdiate the API Key. For further assistance, get in touch with us here:  https://maqsoftware.com/contact'"
     ]
    }
   ],
   "source": [
    "#Send Request\n",
    "textClient = TextSDK.MAQTextAnalyticsLinux(base_url = APIEndpoint)\n",
    "\n",
    "response = textClient.post_keyphrase_extractor(api_key = APIKey, data_input = keyphrase_input)\n",
    "\n",
    "print(response)"
   ]
  }
 ],
 "metadata": {
  "kernelspec": {
   "display_name": "TimeSeries_3.7",
   "language": "python",
   "name": "timeseries_3.7"
  },
  "language_info": {
   "codemirror_mode": {
    "name": "ipython",
    "version": 3
   },
   "file_extension": ".py",
   "mimetype": "text/x-python",
   "name": "python",
   "nbconvert_exporter": "python",
   "pygments_lexer": "ipython3",
   "version": "3.7.9"
  },
  "toc": {
   "base_numbering": 1,
   "nav_menu": {},
   "number_sections": true,
   "sideBar": true,
   "skip_h1_title": false,
   "title_cell": "Table of Contents",
   "title_sidebar": "Contents",
   "toc_cell": false,
   "toc_position": {},
   "toc_section_display": true,
   "toc_window_display": false
  }
 },
 "nbformat": 4,
 "nbformat_minor": 4
}
