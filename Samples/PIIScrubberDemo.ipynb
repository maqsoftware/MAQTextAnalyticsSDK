{
 "cells": [
  {
   "cell_type": "markdown",
   "metadata": {},
   "source": [
    "### Installing the Library"
   ]
  },
  {
   "cell_type": "code",
   "execution_count": 1,
   "metadata": {},
   "outputs": [
    {
     "name": "stdout",
     "output_type": "stream",
     "text": [
      "Collecting MAQTextSDK"
     ]
    },
    {
     "name": "stderr",
     "output_type": "stream",
     "text": [
      "You are using pip version 9.0.1, however version 21.3.1 is available.\n",
      "You should consider upgrading via the 'python -m pip install --upgrade pip' command.\n"
     ]
    },
    {
     "name": "stdout",
     "output_type": "stream",
     "text": [
      "\n",
      "  Downloading https://files.pythonhosted.org/packages/1d/55/24b9f7cd5a454b1453fbf53b6ec0417797f3eef33d01722b847e415c3380/MAQTextSDK-1.1.tar.gz\n",
      "Collecting msrest (from MAQTextSDK)\n",
      "  Downloading https://files.pythonhosted.org/packages/e8/cc/6c96bfb3d3cf4c3bdedfa6b46503223f4c2a4fa388377697e0f8082a4fed/msrest-0.6.21-py2.py3-none-any.whl (85kB)\n",
      "Collecting isodate>=0.6.0 (from msrest->MAQTextSDK)\n",
      "  Downloading https://files.pythonhosted.org/packages/9b/9f/b36f7774ff5ea8e428fdcfc4bb332c39ee5b9362ddd3d40d9516a55221b2/isodate-0.6.0-py2.py3-none-any.whl (45kB)\n",
      "Requirement already satisfied: certifi>=2017.4.17 in c:\\users\\v-shaiws\\downloads\\environment\\python_3.6.1\\lib\\site-packages (from msrest->MAQTextSDK)\n",
      "Requirement already satisfied: requests~=2.16 in c:\\users\\v-shaiws\\downloads\\environment\\python_3.6.1\\lib\\site-packages (from msrest->MAQTextSDK)\n",
      "Requirement already satisfied: requests-oauthlib>=0.5.0 in c:\\users\\v-shaiws\\downloads\\environment\\python_3.6.1\\lib\\site-packages (from msrest->MAQTextSDK)\n",
      "Requirement already satisfied: six in c:\\users\\v-shaiws\\downloads\\environment\\python_3.6.1\\lib\\site-packages (from isodate>=0.6.0->msrest->MAQTextSDK)\n",
      "Requirement already satisfied: chardet<3.1.0,>=3.0.2 in c:\\users\\v-shaiws\\downloads\\environment\\python_3.6.1\\lib\\site-packages (from requests~=2.16->msrest->MAQTextSDK)\n",
      "Requirement already satisfied: idna<2.9,>=2.5 in c:\\users\\v-shaiws\\downloads\\environment\\python_3.6.1\\lib\\site-packages (from requests~=2.16->msrest->MAQTextSDK)\n",
      "Requirement already satisfied: urllib3!=1.25.0,!=1.25.1,<1.26,>=1.21.1 in c:\\users\\v-shaiws\\downloads\\environment\\python_3.6.1\\lib\\site-packages (from requests~=2.16->msrest->MAQTextSDK)\n",
      "Requirement already satisfied: oauthlib>=3.0.0 in c:\\users\\v-shaiws\\downloads\\environment\\python_3.6.1\\lib\\site-packages (from requests-oauthlib>=0.5.0->msrest->MAQTextSDK)\n",
      "Building wheels for collected packages: MAQTextSDK\n",
      "  Running setup.py bdist_wheel for MAQTextSDK: started\n",
      "  Running setup.py bdist_wheel for MAQTextSDK: finished with status 'done'\n",
      "  Stored in directory: C:\\Users\\shaiwalsachdevpepsi\\AppData\\Local\\pip\\Cache\\wheels\\20\\61\\86\\1edcba7d5931319fedf0032cf0eab0db9a915602719d3da300\n",
      "Successfully built MAQTextSDK\n",
      "Installing collected packages: isodate, msrest, MAQTextSDK\n",
      "Successfully installed MAQTextSDK-1.1 isodate-0.6.0 msrest-0.6.21\n"
     ]
    }
   ],
   "source": [
    "!pip install MAQTextSDK"
   ]
  },
  {
   "cell_type": "markdown",
   "metadata": {},
   "source": [
    "### Send Request"
   ]
  },
  {
   "cell_type": "code",
   "execution_count": 100,
   "metadata": {},
   "outputs": [],
   "source": [
    "#Load Text into dict\n",
    "pii_input = dict()\n",
    "pii_input[\"data\"] = \"Parker Doe has repaid all of their loans as of 2020-04-25. Their SSN is 859-98-0987. To contact them, use their phone number 555-555-5555. They are originally from Brazil\"\n",
    "\n",
    "#Set the list of entities to be removed\n",
    "pii_input[\"entity_list\"] = [\"PERSON\", \"US_SSN\", \"PHONE_NUMBER\"]"
   ]
  },
  {
   "cell_type": "code",
   "execution_count": 101,
   "metadata": {},
   "outputs": [],
   "source": [
    "#Set API Key\n",
    "APIKey = 'Valid API Key'\n",
    "APIEndpoint = \"https://maqtextnalyticssdk.azure-api.net/text/\""
   ]
  },
  {
   "cell_type": "code",
   "execution_count": 102,
   "metadata": {},
   "outputs": [],
   "source": [
    "#Import \n",
    "import  MAQTextSDK.maq_text_analytics_linux as TextSDK\n",
    "import pandas as pd"
   ]
  },
  {
   "cell_type": "code",
   "execution_count": 103,
   "metadata": {},
   "outputs": [
    {
     "name": "stdout",
     "output_type": "stream",
     "text": [
      "Original Text:  Parker Doe has repaid all of their loans as of 2020-04-25. Their SSN is 859-98-0987. To contact them, use their phone number 555-555-5555. They are originally from Brazil\n",
      "After PII Scrubbing:  <PERSON> has repaid all of their loans as of 2020-04-25. Their SSN is <US_SSN>. To contact them, use their phone number <PHONE_NUMBER>. They are originally from Brazil\n"
     ]
    }
   ],
   "source": [
    "#Send Request\n",
    "\n",
    "textClient = TextSDK.MAQTextAnalyticsLinux(base_url = APIEndpoint)\n",
    "\n",
    "response = textClient.post_piiscrubber(api_key = APIKey, data_input = pii_input.copy())\n",
    "\n",
    "print(\"Original Text: \", pii_input['data'])\n",
    "\n",
    "print(\"After PII Scrubbing: \", response['scrubbed_text'])"
   ]
  },
  {
   "cell_type": "markdown",
   "metadata": {},
   "source": [
    "### Error Handling"
   ]
  },
  {
   "cell_type": "markdown",
   "metadata": {},
   "source": [
    "#### Invalid or Expired API Key"
   ]
  },
  {
   "cell_type": "code",
   "execution_count": 98,
   "metadata": {},
   "outputs": [],
   "source": [
    "#Set API Key\n",
    "APIKey = 'Invalid/Expired API Key'\n",
    "APIEndpoint = \"https://maqtextnalyticssdk.azure-api.net/text/\""
   ]
  },
  {
   "cell_type": "code",
   "execution_count": 99,
   "metadata": {},
   "outputs": [
    {
     "ename": "HttpOperationError",
     "evalue": "Operation returned an invalid status code 'You are passing an invalid API Key. Please valdiate the API Key. For further assistance, get in touch with us here:  https://maqsoftware.com/contact'",
     "output_type": "error",
     "traceback": [
      "\u001b[1;31m---------------------------------------------------------------------------\u001b[0m",
      "\u001b[1;31mHttpOperationError\u001b[0m                        Traceback (most recent call last)",
      "\u001b[1;32mC:\\Users\\SHAIWA~1\\AppData\\Local\\Temp/ipykernel_25384/884900946.py\u001b[0m in \u001b[0;36m<module>\u001b[1;34m\u001b[0m\n\u001b[0;32m      2\u001b[0m \u001b[0mtextClient\u001b[0m \u001b[1;33m=\u001b[0m \u001b[0mTextSDK\u001b[0m\u001b[1;33m.\u001b[0m\u001b[0mMAQTextAnalyticsLinux\u001b[0m\u001b[1;33m(\u001b[0m\u001b[0mbase_url\u001b[0m \u001b[1;33m=\u001b[0m \u001b[0mAPIEndpoint\u001b[0m\u001b[1;33m)\u001b[0m\u001b[1;33m\u001b[0m\u001b[1;33m\u001b[0m\u001b[0m\n\u001b[0;32m      3\u001b[0m \u001b[1;33m\u001b[0m\u001b[0m\n\u001b[1;32m----> 4\u001b[1;33m \u001b[0mresponse\u001b[0m \u001b[1;33m=\u001b[0m \u001b[0mtextClient\u001b[0m\u001b[1;33m.\u001b[0m\u001b[0mpost_piiscrubber\u001b[0m\u001b[1;33m(\u001b[0m\u001b[0mapi_key\u001b[0m \u001b[1;33m=\u001b[0m \u001b[0mAPIKey\u001b[0m\u001b[1;33m,\u001b[0m \u001b[0mdata_input\u001b[0m \u001b[1;33m=\u001b[0m \u001b[0mpii_input\u001b[0m\u001b[1;33m)\u001b[0m\u001b[1;33m\u001b[0m\u001b[1;33m\u001b[0m\u001b[0m\n\u001b[0m\u001b[0;32m      5\u001b[0m \u001b[1;33m\u001b[0m\u001b[0m\n\u001b[0;32m      6\u001b[0m \u001b[0mprint\u001b[0m\u001b[1;33m(\u001b[0m\u001b[0mresponse\u001b[0m\u001b[1;33m)\u001b[0m\u001b[1;33m\u001b[0m\u001b[1;33m\u001b[0m\u001b[0m\n",
      "\u001b[1;32mC:\\Users\\v-shaiws\\Downloads\\Environment\\TimeSeries_3.7\\lib\\site-packages\\MAQTextSDK\\maq_text_analytics_linux.py\u001b[0m in \u001b[0;36mpost_piiscrubber\u001b[1;34m(self, api_key, data_input, custom_headers, raw, **operation_config)\u001b[0m\n\u001b[0;32m    202\u001b[0m             \u001b[1;32melse\u001b[0m\u001b[1;33m:\u001b[0m\u001b[1;33m\u001b[0m\u001b[1;33m\u001b[0m\u001b[0m\n\u001b[0;32m    203\u001b[0m                 \u001b[0mresponse\u001b[0m\u001b[1;33m.\u001b[0m\u001b[0mreason\u001b[0m \u001b[1;33m=\u001b[0m \u001b[0mjson\u001b[0m\u001b[1;33m.\u001b[0m\u001b[0mloads\u001b[0m\u001b[1;33m(\u001b[0m\u001b[0mresponse\u001b[0m\u001b[1;33m.\u001b[0m\u001b[0mtext\u001b[0m\u001b[1;33m)\u001b[0m\u001b[1;33m[\u001b[0m\u001b[1;34m\"message\"\u001b[0m\u001b[1;33m]\u001b[0m\u001b[1;33m\u001b[0m\u001b[1;33m\u001b[0m\u001b[0m\n\u001b[1;32m--> 204\u001b[1;33m                 \u001b[1;32mraise\u001b[0m \u001b[0mHttpOperationError\u001b[0m\u001b[1;33m(\u001b[0m\u001b[0mself\u001b[0m\u001b[1;33m.\u001b[0m\u001b[0m_deserialize\u001b[0m\u001b[1;33m,\u001b[0m \u001b[0mresponse\u001b[0m\u001b[1;33m)\u001b[0m\u001b[1;33m\u001b[0m\u001b[1;33m\u001b[0m\u001b[0m\n\u001b[0m\u001b[0;32m    205\u001b[0m \u001b[1;33m\u001b[0m\u001b[0m\n\u001b[0;32m    206\u001b[0m         \u001b[0mdeserialized\u001b[0m \u001b[1;33m=\u001b[0m \u001b[1;32mNone\u001b[0m\u001b[1;33m\u001b[0m\u001b[1;33m\u001b[0m\u001b[0m\n",
      "\u001b[1;31mHttpOperationError\u001b[0m: Operation returned an invalid status code 'You are passing an invalid API Key. Please valdiate the API Key. For further assistance, get in touch with us here:  https://maqsoftware.com/contact'"
     ]
    }
   ],
   "source": [
    "#Send Request\n",
    "textClient = TextSDK.MAQTextAnalyticsLinux(base_url = APIEndpoint)\n",
    "\n",
    "response = textClient.post_piiscrubber(api_key = APIKey, data_input = pii_input)\n",
    "\n",
    "print(response)"
   ]
  }
 ],
 "metadata": {
  "kernelspec": {
   "display_name": "Conda_TimeSeries_3.7",
   "language": "python",
   "name": "conda_timeseries_3.7"
  },
  "language_info": {
   "codemirror_mode": {
    "name": "ipython",
    "version": 3
   },
   "file_extension": ".py",
   "mimetype": "text/x-python",
   "name": "python",
   "nbconvert_exporter": "python",
   "pygments_lexer": "ipython3",
   "version": "3.7.11"
  },
  "toc": {
   "base_numbering": 1,
   "nav_menu": {},
   "number_sections": true,
   "sideBar": true,
   "skip_h1_title": false,
   "title_cell": "Table of Contents",
   "title_sidebar": "Contents",
   "toc_cell": false,
   "toc_position": {},
   "toc_section_display": true,
   "toc_window_display": false
  }
 },
 "nbformat": 4,
 "nbformat_minor": 4
}
