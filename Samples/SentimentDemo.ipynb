{
 "cells": [
  {
   "cell_type": "markdown",
   "metadata": {},
   "source": [
    "### Installing the Library"
   ]
  },
  {
   "cell_type": "code",
   "execution_count": 1,
   "metadata": {},
   "outputs": [
    {
     "output_type": "stream",
     "name": "stdout",
     "text": [
      "Processing c:\\users\\v-ravram\\appdata\\local\\pip\\cache\\wheels\\c5\\01\\da\\db3a6e315136c01749225eed918ac406b6dfa0a4114441b1a5\\maqtextsdk-0.3.1-py3-none-any.whl\nRequirement already satisfied: msrest in c:\\users\\v-ravram\\appdata\\local\\programs\\python\\python37\\lib\\site-packages (from MAQTextSDK==0.3.1) (0.6.18)\nRequirement already satisfied: isodate>=0.6.0 in c:\\users\\v-ravram\\appdata\\local\\programs\\python\\python37\\lib\\site-packages (from msrest->MAQTextSDK==0.3.1) (0.6.0)\nRequirement already satisfied: requests~=2.16 in c:\\users\\v-ravram\\appdata\\local\\programs\\python\\python37\\lib\\site-packages (from msrest->MAQTextSDK==0.3.1) (2.23.0)\nRequirement already satisfied: certifi>=2017.4.17 in c:\\users\\v-ravram\\appdata\\local\\programs\\python\\python37\\lib\\site-packages (from msrest->MAQTextSDK==0.3.1) (2020.4.5.1)\nRequirement already satisfied: requests-oauthlib>=0.5.0 in c:\\users\\v-ravram\\appdata\\local\\programs\\python\\python37\\lib\\site-packages (from msrest->MAQTextSDK==0.3.1) (1.3.0)\nRequirement already satisfied: six in c:\\users\\v-ravram\\appdata\\roaming\\python\\python37\\site-packages (from isodate>=0.6.0->msrest->MAQTextSDK==0.3.1) (1.14.0)\nRequirement already satisfied: urllib3!=1.25.0,!=1.25.1,<1.26,>=1.21.1 in c:\\users\\v-ravram\\appdata\\local\\programs\\python\\python37\\lib\\site-packages (from requests~=2.16->msrest->MAQTextSDK==0.3.1) (1.25.9)\nRequirement already satisfied: idna<3,>=2.5 in c:\\users\\v-ravram\\appdata\\local\\programs\\python\\python37\\lib\\site-packages (from requests~=2.16->msrest->MAQTextSDK==0.3.1) (2.9)\nRequirement already satisfied: chardet<4,>=3.0.2 in c:\\users\\v-ravram\\appdata\\local\\programs\\python\\python37\\lib\\site-packages (from requests~=2.16->msrest->MAQTextSDK==0.3.1) (3.0.4)\nRequirement already satisfied: oauthlib>=3.0.0 in c:\\users\\v-ravram\\appdata\\local\\programs\\python\\python37\\lib\\site-packages (from requests-oauthlib>=0.5.0->msrest->MAQTextSDK==0.3.1) (3.1.0)\nInstalling collected packages: MAQTextSDK\nSuccessfully installed MAQTextSDK-0.3.1\n"
     ]
    }
   ],
   "source": [
    "!pip install MAQTextSDK"
   ]
  },
  {
   "cell_type": "markdown",
   "metadata": {},
   "source": [
    "### Send Request"
   ]
  },
  {
   "cell_type": "code",
   "execution_count": 2,
   "metadata": {},
   "outputs": [],
   "source": [
    "#Load Corpus\n",
    "corpus = ['I love working on ML stuff.',\n",
    "          'I hate working on stuff that is boring and repetitive.',\"I love working from home in COVID-19.\"]"
   ]
  },
  {
   "cell_type": "code",
   "execution_count": 3,
   "metadata": {},
   "outputs": [],
   "source": [
    "#Set API Key\n",
    "APIKey = 'Valid API Key'\n",
    "APIEndpoint = \"https://maqtextnalyticssdk.azure-api.net/text/\""
   ]
  },
  {
   "cell_type": "code",
   "execution_count": 4,
   "metadata": {},
   "outputs": [],
   "source": [
    "#Import \n",
    "import  MAQTextSDK.maq_text_analytics_linux as SentimentSDK"
   ]
  },
  {
   "cell_type": "code",
   "execution_count": 5,
   "metadata": {},
   "outputs": [
    {
     "output_type": "stream",
     "name": "stdout",
     "text": [
      "Document:\nI love working on ML stuff.\nSentiment:\n0.9965866137\n\nDocument:\nI hate working on stuff that is boring and repetitive.\nSentiment:\n0.0007629122\n\nDocument:\nI love working from home in COVID-19.\nSentiment:\n0.9943320933\n\n"
     ]
    }
   ],
   "source": [
    "#Send Request\n",
    "\n",
    "sentimentClient = SentimentSDK.MAQTextAnalyticsLinux(base_url = APIEndpoint)\n",
    "\n",
    "response = sentimentClient.post_sentimentclassifier(api_key = APIKey, data_input = corpus, raw = True)\n",
    "\n",
    "for document in response:\n",
    "    print(\"Document:\")\n",
    "    print(document['text'])\n",
    "    print(\"Sentiment:\")\n",
    "    print(document['sentiment'])\n",
    "    print()"
   ]
  },
  {
   "cell_type": "markdown",
   "metadata": {},
   "source": [
    "### Send Request using Requests Library"
   ]
  },
  {
   "cell_type": "code",
   "execution_count": 6,
   "metadata": {},
   "outputs": [],
   "source": [
    "import requests\n",
    "#Set API Key\n",
    "APIKey = 'Valid API Key'\n",
    "APIEndpoint = \"https://maqtextnalyticssdk.azure-api.net/text/\"\n",
    "headers = {\"APIKey\": APIKey}"
   ]
  },
  {
   "cell_type": "code",
   "execution_count": 7,
   "metadata": {},
   "outputs": [],
   "source": [
    "corpus = {\"data\": [\n",
    "    {\"id\": \"1\", \"text\": \"I love working on ML stuff.\"},\n",
    "    {\"id\": \"2\", \"text\": \"I hate working on stuff that is boring and repetitive.\"},\n",
    "    {\"id\": \"3\", \"text\": \"I love working from home in COVID-19.\"}\n",
    "]}"
   ]
  },
  {
   "cell_type": "code",
   "execution_count": 8,
   "metadata": {},
   "outputs": [],
   "source": [
    "response = requests.post(APIEndpoint + \"/SentimentClassifier\", headers=headers, json=corpus)\n",
    "sentiment = response.json()"
   ]
  },
  {
   "cell_type": "code",
   "execution_count": 9,
   "metadata": {},
   "outputs": [
    {
     "output_type": "execute_result",
     "data": {
      "text/plain": [
       "[{'id': '1', 'sentiment': 0.9965866137},\n",
       " {'id': '2', 'sentiment': 0.0007629122},\n",
       " {'id': '3', 'sentiment': 0.9943320933}]"
      ]
     },
     "metadata": {},
     "execution_count": 9
    }
   ],
   "source": [
    "sentiment"
   ]
  },
  {
   "cell_type": "markdown",
   "metadata": {},
   "source": [
    "### Error Handling"
   ]
  },
  {
   "cell_type": "markdown",
   "metadata": {},
   "source": [
    "#### Invalid or Expired API Key"
   ]
  },
  {
   "cell_type": "code",
   "execution_count": 10,
   "metadata": {},
   "outputs": [],
   "source": [
    "#Set API Key\n",
    "APIKey = 'Invalid/Expired API Key'\n",
    "APIEndpoint = \"https://maqtextnalyticssdk.azure-api.net/text/\""
   ]
  },
  {
   "cell_type": "code",
   "execution_count": 11,
   "metadata": {},
   "outputs": [
    {
     "output_type": "error",
     "ename": "HttpOperationError",
     "evalue": "Operation returned an invalid status code 'You are passing an invalid API Key. Please valdiate the API Key. For further assistance, get in touch with us here:  https://maqsoftware.com/contact'",
     "traceback": [
      "\u001b[1;31m---------------------------------------------------------------------------\u001b[0m",
      "\u001b[1;31mHttpOperationError\u001b[0m                        Traceback (most recent call last)",
      "\u001b[1;32m<ipython-input-11-01d6b313b1ef>\u001b[0m in \u001b[0;36m<module>\u001b[1;34m\u001b[0m\n\u001b[0;32m      2\u001b[0m \u001b[0msentimentClient\u001b[0m \u001b[1;33m=\u001b[0m \u001b[0mSentimentSDK\u001b[0m\u001b[1;33m.\u001b[0m\u001b[0mMAQTextAnalyticsLinux\u001b[0m\u001b[1;33m(\u001b[0m\u001b[0mbase_url\u001b[0m \u001b[1;33m=\u001b[0m \u001b[0mAPIEndpoint\u001b[0m\u001b[1;33m)\u001b[0m\u001b[1;33m\u001b[0m\u001b[0m\n\u001b[0;32m      3\u001b[0m \u001b[1;33m\u001b[0m\u001b[0m\n\u001b[1;32m----> 4\u001b[1;33m \u001b[0mresponse\u001b[0m \u001b[1;33m=\u001b[0m \u001b[0msentimentClient\u001b[0m\u001b[1;33m.\u001b[0m\u001b[0mpost_sentimentclassifier\u001b[0m\u001b[1;33m(\u001b[0m\u001b[0mapi_key\u001b[0m \u001b[1;33m=\u001b[0m \u001b[0mAPIKey\u001b[0m\u001b[1;33m,\u001b[0m \u001b[0mdata_input\u001b[0m \u001b[1;33m=\u001b[0m \u001b[0mcorpus\u001b[0m\u001b[1;33m,\u001b[0m \u001b[0mraw\u001b[0m \u001b[1;33m=\u001b[0m \u001b[1;32mTrue\u001b[0m\u001b[1;33m)\u001b[0m\u001b[1;33m\u001b[0m\u001b[0m\n\u001b[0m",
      "\u001b[1;32m~\\AppData\\Local\\Programs\\Python\\Python37\\lib\\site-packages\\MAQTextSDK\\maq_text_analytics_linux.py\u001b[0m in \u001b[0;36mpost_sentimentclassifier\u001b[1;34m(self, api_key, data_input, custom_headers, raw, **operation_config)\u001b[0m\n\u001b[0;32m    105\u001b[0m             \u001b[1;32melse\u001b[0m\u001b[1;33m:\u001b[0m\u001b[1;33m\u001b[0m\u001b[0m\n\u001b[0;32m    106\u001b[0m                 \u001b[0mresponse\u001b[0m\u001b[1;33m.\u001b[0m\u001b[0mreason\u001b[0m \u001b[1;33m=\u001b[0m \u001b[1;33m(\u001b[0m\u001b[0mjson\u001b[0m\u001b[1;33m.\u001b[0m\u001b[0mloads\u001b[0m\u001b[1;33m(\u001b[0m\u001b[0mresponse\u001b[0m\u001b[1;33m.\u001b[0m\u001b[0mtext\u001b[0m\u001b[1;33m)\u001b[0m\u001b[1;33m[\u001b[0m\u001b[1;34m'message'\u001b[0m\u001b[1;33m]\u001b[0m\u001b[1;33m)\u001b[0m\u001b[1;33m\u001b[0m\u001b[0m\n\u001b[1;32m--> 107\u001b[1;33m                 \u001b[1;32mraise\u001b[0m \u001b[0mHttpOperationError\u001b[0m\u001b[1;33m(\u001b[0m\u001b[0mself\u001b[0m\u001b[1;33m.\u001b[0m\u001b[0m_deserialize\u001b[0m\u001b[1;33m,\u001b[0m \u001b[0mresponse\u001b[0m\u001b[1;33m)\u001b[0m\u001b[1;33m\u001b[0m\u001b[0m\n\u001b[0m\u001b[0;32m    108\u001b[0m \u001b[1;33m\u001b[0m\u001b[0m\n\u001b[0;32m    109\u001b[0m         \u001b[0mdeserialized\u001b[0m \u001b[1;33m=\u001b[0m \u001b[1;32mNone\u001b[0m\u001b[1;33m\u001b[0m\u001b[0m\n",
      "\u001b[1;31mHttpOperationError\u001b[0m: Operation returned an invalid status code 'You are passing an invalid API Key. Please valdiate the API Key. For further assistance, get in touch with us here:  https://maqsoftware.com/contact'"
     ]
    }
   ],
   "source": [
    "#Send Request\n",
    "sentimentClient = SentimentSDK.MAQTextAnalyticsLinux(base_url = APIEndpoint)\n",
    "\n",
    "response = sentimentClient.post_sentimentclassifier(api_key = APIKey, data_input = corpus, raw = True)"
   ]
  },
  {
   "source": [
    "#### Sending more than 25 documents"
   ],
   "cell_type": "markdown",
   "metadata": {}
  },
  {
   "cell_type": "code",
   "execution_count": 12,
   "metadata": {},
   "outputs": [],
   "source": [
    "#Set API Key\n",
    "APIKey = 'Valid API Key'\n",
    "APIEndpoint = \"https://maqtextnalyticssdk.azure-api.net/text/\""
   ]
  },
  {
   "cell_type": "code",
   "execution_count": 13,
   "metadata": {},
   "outputs": [],
   "source": [
    "#Load Corpus\n",
    "corpus = ['I love working on ML stuff.',\n",
    "          'I hate working on stuff that is boring and repetitive.',\n",
    "          \"I love working from home in COVID-19.\",\n",
    "          'I love working on ML stuff.',\n",
    "          'I hate working on stuff that is boring and repetitive.',\n",
    "          \"I love working from home in COVID-19.\",\n",
    "          'I love working on ML stuff.',\n",
    "          'I hate working on stuff that is boring and repetitive.',\n",
    "          \"I love working from home in COVID-19.\",\n",
    "          'I love working on ML stuff.',\n",
    "          'I hate working on stuff that is boring and repetitive.',\n",
    "          \"I love working from home in COVID-19.\",\n",
    "          'I love working on ML stuff.',\n",
    "          'I hate working on stuff that is boring and repetitive.',\n",
    "          \"I love working from home in COVID-19.\",\n",
    "          'I love working on ML stuff.',\n",
    "          'I hate working on stuff that is boring and repetitive.',\n",
    "          \"I love working from home in COVID-19.\",\n",
    "          'I love working on ML stuff.',\n",
    "          'I hate working on stuff that is boring and repetitive.',\n",
    "          \"I love working from home in COVID-19.\",\n",
    "          'I love working on ML stuff.',\n",
    "          'I hate working on stuff that is boring and repetitive.',\n",
    "          \"I love working from home in COVID-19.\",\n",
    "          'I love working on ML stuff.',\n",
    "          'I hate working on stuff that is boring and repetitive.',\n",
    "          \"I love working from home in COVID-19.\"]"
   ]
  },
  {
   "cell_type": "code",
   "execution_count": 14,
   "metadata": {},
   "outputs": [
    {
     "output_type": "error",
     "ename": "HttpOperationError",
     "evalue": "Operation returned an invalid status code 'InvalidJSONError: The data provided exceeds the max batch size limit of 25'",
     "traceback": [
      "\u001b[1;31m---------------------------------------------------------------------------\u001b[0m",
      "\u001b[1;31mHttpOperationError\u001b[0m                        Traceback (most recent call last)",
      "\u001b[1;32m<ipython-input-14-438b7fdee4f8>\u001b[0m in \u001b[0;36m<module>\u001b[1;34m\u001b[0m\n\u001b[0;32m      3\u001b[0m \u001b[0msentimentClient\u001b[0m \u001b[1;33m=\u001b[0m \u001b[0mSentimentSDK\u001b[0m\u001b[1;33m.\u001b[0m\u001b[0mMAQTextAnalyticsLinux\u001b[0m\u001b[1;33m(\u001b[0m\u001b[0mbase_url\u001b[0m \u001b[1;33m=\u001b[0m \u001b[0mAPIEndpoint\u001b[0m\u001b[1;33m)\u001b[0m\u001b[1;33m\u001b[0m\u001b[0m\n\u001b[0;32m      4\u001b[0m \u001b[1;33m\u001b[0m\u001b[0m\n\u001b[1;32m----> 5\u001b[1;33m \u001b[0mresponse\u001b[0m \u001b[1;33m=\u001b[0m \u001b[0msentimentClient\u001b[0m\u001b[1;33m.\u001b[0m\u001b[0mpost_sentimentclassifier\u001b[0m\u001b[1;33m(\u001b[0m\u001b[0mapi_key\u001b[0m \u001b[1;33m=\u001b[0m \u001b[0mAPIKey\u001b[0m\u001b[1;33m,\u001b[0m \u001b[0mdata_input\u001b[0m \u001b[1;33m=\u001b[0m \u001b[0mcorpus\u001b[0m\u001b[1;33m,\u001b[0m \u001b[0mraw\u001b[0m \u001b[1;33m=\u001b[0m \u001b[1;32mTrue\u001b[0m\u001b[1;33m)\u001b[0m\u001b[1;33m\u001b[0m\u001b[0m\n\u001b[0m\u001b[0;32m      6\u001b[0m \u001b[1;33m\u001b[0m\u001b[0m\n\u001b[0;32m      7\u001b[0m \u001b[1;32mfor\u001b[0m \u001b[0mdocument\u001b[0m \u001b[1;32min\u001b[0m \u001b[0mresponse\u001b[0m\u001b[1;33m:\u001b[0m\u001b[1;33m\u001b[0m\u001b[0m\n",
      "\u001b[1;32m~\\AppData\\Local\\Programs\\Python\\Python37\\lib\\site-packages\\MAQTextSDK\\maq_text_analytics_linux.py\u001b[0m in \u001b[0;36mpost_sentimentclassifier\u001b[1;34m(self, api_key, data_input, custom_headers, raw, **operation_config)\u001b[0m\n\u001b[0;32m    102\u001b[0m             \u001b[1;32mif\u001b[0m \u001b[1;34m'errors'\u001b[0m \u001b[1;32min\u001b[0m \u001b[0mjson\u001b[0m\u001b[1;33m.\u001b[0m\u001b[0mloads\u001b[0m\u001b[1;33m(\u001b[0m\u001b[0mresponse\u001b[0m\u001b[1;33m.\u001b[0m\u001b[0mtext\u001b[0m\u001b[1;33m)\u001b[0m\u001b[1;33m:\u001b[0m\u001b[1;33m\u001b[0m\u001b[0m\n\u001b[0;32m    103\u001b[0m                 \u001b[0mresponse\u001b[0m\u001b[1;33m.\u001b[0m\u001b[0mreason\u001b[0m \u001b[1;33m=\u001b[0m \u001b[1;33m(\u001b[0m\u001b[0mjson\u001b[0m\u001b[1;33m.\u001b[0m\u001b[0mloads\u001b[0m\u001b[1;33m(\u001b[0m\u001b[0mresponse\u001b[0m\u001b[1;33m.\u001b[0m\u001b[0mtext\u001b[0m\u001b[1;33m)\u001b[0m\u001b[1;33m[\u001b[0m\u001b[1;34m'errors'\u001b[0m\u001b[1;33m]\u001b[0m\u001b[1;33m[\u001b[0m\u001b[1;36m0\u001b[0m\u001b[1;33m]\u001b[0m\u001b[1;33m[\u001b[0m\u001b[1;34m'message'\u001b[0m\u001b[1;33m]\u001b[0m\u001b[1;33m)\u001b[0m\u001b[1;33m\u001b[0m\u001b[0m\n\u001b[1;32m--> 104\u001b[1;33m                 \u001b[1;32mraise\u001b[0m \u001b[0mHttpOperationError\u001b[0m\u001b[1;33m(\u001b[0m\u001b[0mself\u001b[0m\u001b[1;33m.\u001b[0m\u001b[0m_deserialize\u001b[0m\u001b[1;33m,\u001b[0m \u001b[0mresponse\u001b[0m\u001b[1;33m)\u001b[0m\u001b[1;33m\u001b[0m\u001b[0m\n\u001b[0m\u001b[0;32m    105\u001b[0m             \u001b[1;32melse\u001b[0m\u001b[1;33m:\u001b[0m\u001b[1;33m\u001b[0m\u001b[0m\n\u001b[0;32m    106\u001b[0m                 \u001b[0mresponse\u001b[0m\u001b[1;33m.\u001b[0m\u001b[0mreason\u001b[0m \u001b[1;33m=\u001b[0m \u001b[1;33m(\u001b[0m\u001b[0mjson\u001b[0m\u001b[1;33m.\u001b[0m\u001b[0mloads\u001b[0m\u001b[1;33m(\u001b[0m\u001b[0mresponse\u001b[0m\u001b[1;33m.\u001b[0m\u001b[0mtext\u001b[0m\u001b[1;33m)\u001b[0m\u001b[1;33m[\u001b[0m\u001b[1;34m'message'\u001b[0m\u001b[1;33m]\u001b[0m\u001b[1;33m)\u001b[0m\u001b[1;33m\u001b[0m\u001b[0m\n",
      "\u001b[1;31mHttpOperationError\u001b[0m: Operation returned an invalid status code 'InvalidJSONError: The data provided exceeds the max batch size limit of 25'"
     ]
    }
   ],
   "source": [
    "#Send Request\n",
    "\n",
    "sentimentClient = SentimentSDK.MAQTextAnalyticsLinux(base_url = APIEndpoint)\n",
    "\n",
    "response = sentimentClient.post_sentimentclassifier(api_key = APIKey, data_input = corpus, raw = True)\n",
    "\n",
    "for document in response:\n",
    "    print(\"Document:\")\n",
    "    print(document['text'])\n",
    "    print(\"Sentiment:\")\n",
    "    print(document['sentiment'])\n",
    "    print()"
   ]
  }
 ],
 "metadata": {
  "kernelspec": {
   "name": "python3",
   "display_name": "Python 3.7.0 64-bit",
   "metadata": {
    "interpreter": {
     "hash": "fe43e9d7ee1c6f534923b1fcf2f1928c3a86d13f11eb55263889b979ee2e8240"
    }
   }
  },
  "language_info": {
   "codemirror_mode": {
    "name": "ipython",
    "version": 3
   },
   "file_extension": ".py",
   "mimetype": "text/x-python",
   "name": "python",
   "nbconvert_exporter": "python",
   "pygments_lexer": "ipython3",
   "version": "3.7.0-final"
  }
 },
 "nbformat": 4,
 "nbformat_minor": 4
}
